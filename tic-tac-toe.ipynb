{
 "cells": [
  {
   "cell_type": "markdown",
   "id": "1ac02e43",
   "metadata": {
    "papermill": {
     "duration": 0.016493,
     "end_time": "2022-01-22T22:17:35.084695",
     "exception": false,
     "start_time": "2022-01-22T22:17:35.068202",
     "status": "completed"
    },
    "tags": []
   },
   "source": [
    "# Planificación del proyecto"
   ]
  },
  {
   "cell_type": "markdown",
   "id": "582f5354",
   "metadata": {
    "papermill": {
     "duration": 0.014766,
     "end_time": "2022-01-22T22:17:35.115192",
     "exception": false,
     "start_time": "2022-01-22T22:17:35.100426",
     "status": "completed"
    },
    "tags": []
   },
   "source": [
    "# Entendimiento del negocio"
   ]
  },
  {
   "cell_type": "markdown",
   "id": "1ea86d22",
   "metadata": {
    "papermill": {
     "duration": 0.014584,
     "end_time": "2022-01-22T22:17:35.145109",
     "exception": false,
     "start_time": "2022-01-22T22:17:35.130525",
     "status": "completed"
    },
    "tags": []
   },
   "source": [
    "# Comprensión de los datos"
   ]
  },
  {
   "cell_type": "markdown",
   "id": "ed019a10",
   "metadata": {
    "papermill": {
     "duration": 0.015158,
     "end_time": "2022-01-22T22:17:35.175100",
     "exception": false,
     "start_time": "2022-01-22T22:17:35.159942",
     "status": "completed"
    },
    "tags": []
   },
   "source": [
    "\n",
    "Columnas de inicio:\n",
    "* **TL** : cuadrado superior izquierdo {x,o,b}\n",
    "* **TM** : cuadrado superior central {x,o,b}\n",
    "* **TR** : cuadrado superior derecho {x,o,b}\n",
    "* **ML** : cuadrado central izquierdo {x,o,b}\n",
    "* **MM** : cuadrado central medio {x,o,b}\n",
    "* **MR** : cuadrado medio derecho {x,o,b}\n",
    "* **BL** : cuadrado inferior izquierdo {x,o,b}\n",
    "* **BM** : cuadrado medio inferior {x,o,b}\n",
    "* **BR** : cuadrado inferior derecho {x,o,b}\n",
    "\n",
    "\n",
    "Variable de salida:\n",
    "* **Verdadero**: x ganó\n",
    "* **Falso**: x ha perdido\n",
    "\n",
    "Los valores son:\n",
    "* **x** : x jugador\n",
    "* **o** : o jugador\n",
    "* **b** : campo en blanco"
   ]
  },
  {
   "cell_type": "markdown",
   "id": "0f5dfe9d",
   "metadata": {
    "papermill": {
     "duration": 0.015137,
     "end_time": "2022-01-22T22:17:35.205616",
     "exception": false,
     "start_time": "2022-01-22T22:17:35.190479",
     "status": "completed"
    },
    "tags": []
   },
   "source": [
    "## Importar librerias"
   ]
  },
  {
   "cell_type": "code",
   "execution_count": 1,
   "id": "bdfbde81",
   "metadata": {
    "_cell_guid": "b1076dfc-b9ad-4769-8c92-a6c4dae69d19",
    "_uuid": "8f2839f25d086af736a60e9eeb907d3b93b6e0e5",
    "execution": {
     "iopub.execute_input": "2022-01-22T22:17:35.242147Z",
     "iopub.status.busy": "2022-01-22T22:17:35.240809Z",
     "iopub.status.idle": "2022-01-22T22:17:36.532378Z",
     "shell.execute_reply": "2022-01-22T22:17:36.531546Z",
     "shell.execute_reply.started": "2022-01-22T22:14:43.978152Z"
    },
    "papermill": {
     "duration": 1.311652,
     "end_time": "2022-01-22T22:17:36.532557",
     "exception": false,
     "start_time": "2022-01-22T22:17:35.220905",
     "status": "completed"
    },
    "tags": []
   },
   "outputs": [],
   "source": [
    "import numpy as np # linear algebra\n",
    "import pandas as pd # data processing, CSV file I/O (e.g. pd.read_csv)\n",
    "import os\n",
    "\n",
    "from sklearn.model_selection import train_test_split, GridSearchCV\n",
    "from sklearn.preprocessing import LabelEncoder\n",
    "import matplotlib.pyplot as plt\n",
    "from sklearn.ensemble import RandomForestClassifier\n",
    "from sklearn import metrics\n",
    "from sklearn.metrics import confusion_matrix, accuracy_score\n"
   ]
  },
  {
   "cell_type": "markdown",
   "id": "b5c56ebf",
   "metadata": {
    "papermill": {
     "duration": 0.015082,
     "end_time": "2022-01-22T22:17:36.562638",
     "exception": false,
     "start_time": "2022-01-22T22:17:36.547556",
     "status": "completed"
    },
    "tags": []
   },
   "source": [
    "## Cargar el dataset"
   ]
  },
  {
   "cell_type": "code",
   "execution_count": 2,
   "id": "d6efb4cb",
   "metadata": {
    "execution": {
     "iopub.execute_input": "2022-01-22T22:17:36.598000Z",
     "iopub.status.busy": "2022-01-22T22:17:36.597343Z",
     "iopub.status.idle": "2022-01-22T22:17:36.608690Z",
     "shell.execute_reply": "2022-01-22T22:17:36.609346Z",
     "shell.execute_reply.started": "2022-01-22T21:40:29.216785Z"
    },
    "papermill": {
     "duration": 0.031768,
     "end_time": "2022-01-22T22:17:36.609538",
     "exception": false,
     "start_time": "2022-01-22T22:17:36.577770",
     "status": "completed"
    },
    "tags": []
   },
   "outputs": [
    {
     "name": "stdout",
     "output_type": "stream",
     "text": [
      "/kaggle/input/tictactoe/tic-tac-toe.csv\n"
     ]
    }
   ],
   "source": [
    "#Obtenemos el csv asignado\n",
    "for dirname, _, filenames in os.walk('/kaggle/input'):\n",
    "    for filename in filenames:\n",
    "        print(os.path.join(dirname, filename))"
   ]
  },
  {
   "cell_type": "code",
   "execution_count": 3,
   "id": "052978d2",
   "metadata": {
    "execution": {
     "iopub.execute_input": "2022-01-22T22:17:36.646175Z",
     "iopub.status.busy": "2022-01-22T22:17:36.645568Z",
     "iopub.status.idle": "2022-01-22T22:17:36.685849Z",
     "shell.execute_reply": "2022-01-22T22:17:36.686316Z",
     "shell.execute_reply.started": "2022-01-22T21:43:54.478708Z"
    },
    "papermill": {
     "duration": 0.059247,
     "end_time": "2022-01-22T22:17:36.686511",
     "exception": false,
     "start_time": "2022-01-22T22:17:36.627264",
     "status": "completed"
    },
    "tags": []
   },
   "outputs": [
    {
     "data": {
      "text/html": [
       "<div>\n",
       "<style scoped>\n",
       "    .dataframe tbody tr th:only-of-type {\n",
       "        vertical-align: middle;\n",
       "    }\n",
       "\n",
       "    .dataframe tbody tr th {\n",
       "        vertical-align: top;\n",
       "    }\n",
       "\n",
       "    .dataframe thead th {\n",
       "        text-align: right;\n",
       "    }\n",
       "</style>\n",
       "<table border=\"1\" class=\"dataframe\">\n",
       "  <thead>\n",
       "    <tr style=\"text-align: right;\">\n",
       "      <th></th>\n",
       "      <th>TL</th>\n",
       "      <th>TM</th>\n",
       "      <th>TR</th>\n",
       "      <th>ML</th>\n",
       "      <th>MM</th>\n",
       "      <th>MR</th>\n",
       "      <th>BL</th>\n",
       "      <th>BM</th>\n",
       "      <th>BR</th>\n",
       "      <th>class</th>\n",
       "    </tr>\n",
       "  </thead>\n",
       "  <tbody>\n",
       "    <tr>\n",
       "      <th>0</th>\n",
       "      <td>x</td>\n",
       "      <td>x</td>\n",
       "      <td>x</td>\n",
       "      <td>x</td>\n",
       "      <td>o</td>\n",
       "      <td>o</td>\n",
       "      <td>x</td>\n",
       "      <td>o</td>\n",
       "      <td>o</td>\n",
       "      <td>True</td>\n",
       "    </tr>\n",
       "    <tr>\n",
       "      <th>1</th>\n",
       "      <td>x</td>\n",
       "      <td>x</td>\n",
       "      <td>x</td>\n",
       "      <td>x</td>\n",
       "      <td>o</td>\n",
       "      <td>o</td>\n",
       "      <td>o</td>\n",
       "      <td>x</td>\n",
       "      <td>o</td>\n",
       "      <td>True</td>\n",
       "    </tr>\n",
       "    <tr>\n",
       "      <th>2</th>\n",
       "      <td>x</td>\n",
       "      <td>x</td>\n",
       "      <td>x</td>\n",
       "      <td>x</td>\n",
       "      <td>o</td>\n",
       "      <td>o</td>\n",
       "      <td>o</td>\n",
       "      <td>o</td>\n",
       "      <td>x</td>\n",
       "      <td>True</td>\n",
       "    </tr>\n",
       "    <tr>\n",
       "      <th>3</th>\n",
       "      <td>x</td>\n",
       "      <td>x</td>\n",
       "      <td>x</td>\n",
       "      <td>x</td>\n",
       "      <td>o</td>\n",
       "      <td>o</td>\n",
       "      <td>o</td>\n",
       "      <td>b</td>\n",
       "      <td>b</td>\n",
       "      <td>True</td>\n",
       "    </tr>\n",
       "    <tr>\n",
       "      <th>4</th>\n",
       "      <td>x</td>\n",
       "      <td>x</td>\n",
       "      <td>x</td>\n",
       "      <td>x</td>\n",
       "      <td>o</td>\n",
       "      <td>o</td>\n",
       "      <td>b</td>\n",
       "      <td>o</td>\n",
       "      <td>b</td>\n",
       "      <td>True</td>\n",
       "    </tr>\n",
       "  </tbody>\n",
       "</table>\n",
       "</div>"
      ],
      "text/plain": [
       "  TL TM TR ML MM MR BL BM BR  class\n",
       "0  x  x  x  x  o  o  x  o  o   True\n",
       "1  x  x  x  x  o  o  o  x  o   True\n",
       "2  x  x  x  x  o  o  o  o  x   True\n",
       "3  x  x  x  x  o  o  o  b  b   True\n",
       "4  x  x  x  x  o  o  b  o  b   True"
      ]
     },
     "execution_count": 3,
     "metadata": {},
     "output_type": "execute_result"
    }
   ],
   "source": [
    "#Cargamos los datos dados en un csv\n",
    "df = pd.read_csv('/kaggle/input/tictactoe/tic-tac-toe.csv')\n",
    "\n",
    "#Visualizamos datos para comprobar que se ha cargado correctamente\n",
    "df.head()"
   ]
  },
  {
   "cell_type": "code",
   "execution_count": 4,
   "id": "5b2d04b9",
   "metadata": {
    "execution": {
     "iopub.execute_input": "2022-01-22T22:17:36.722890Z",
     "iopub.status.busy": "2022-01-22T22:17:36.722230Z",
     "iopub.status.idle": "2022-01-22T22:17:36.733322Z",
     "shell.execute_reply": "2022-01-22T22:17:36.733835Z",
     "shell.execute_reply.started": "2022-01-22T21:43:55.794862Z"
    },
    "papermill": {
     "duration": 0.031325,
     "end_time": "2022-01-22T22:17:36.734054",
     "exception": false,
     "start_time": "2022-01-22T22:17:36.702729",
     "status": "completed"
    },
    "tags": []
   },
   "outputs": [],
   "source": [
    "y = df['class']\n",
    "x = df.drop(['class'], axis=1)"
   ]
  },
  {
   "cell_type": "markdown",
   "id": "94e82641",
   "metadata": {
    "papermill": {
     "duration": 0.015906,
     "end_time": "2022-01-22T22:17:36.765914",
     "exception": false,
     "start_time": "2022-01-22T22:17:36.750008",
     "status": "completed"
    },
    "tags": []
   },
   "source": [
    "# Análisis descriptivo"
   ]
  },
  {
   "cell_type": "markdown",
   "id": "9c901c45",
   "metadata": {
    "papermill": {
     "duration": 0.015642,
     "end_time": "2022-01-22T22:17:36.797601",
     "exception": false,
     "start_time": "2022-01-22T22:17:36.781959",
     "status": "completed"
    },
    "tags": []
   },
   "source": [
    "Como ya habíamos visto en la tabla anterior, todo son variables categoricas, no tenemos ninguna númerica y nuestra variable de salida es binaria."
   ]
  },
  {
   "cell_type": "code",
   "execution_count": 5,
   "id": "ccb79934",
   "metadata": {
    "execution": {
     "iopub.execute_input": "2022-01-22T22:17:36.833225Z",
     "iopub.status.busy": "2022-01-22T22:17:36.832627Z",
     "iopub.status.idle": "2022-01-22T22:17:36.852290Z",
     "shell.execute_reply": "2022-01-22T22:17:36.851700Z",
     "shell.execute_reply.started": "2022-01-22T21:35:28.267369Z"
    },
    "papermill": {
     "duration": 0.038831,
     "end_time": "2022-01-22T22:17:36.852446",
     "exception": false,
     "start_time": "2022-01-22T22:17:36.813615",
     "status": "completed"
    },
    "tags": []
   },
   "outputs": [
    {
     "name": "stdout",
     "output_type": "stream",
     "text": [
      "<class 'pandas.core.frame.DataFrame'>\n",
      "RangeIndex: 958 entries, 0 to 957\n",
      "Data columns (total 10 columns):\n",
      " #   Column  Non-Null Count  Dtype \n",
      "---  ------  --------------  ----- \n",
      " 0   TL      958 non-null    object\n",
      " 1   TM      958 non-null    object\n",
      " 2   TR      958 non-null    object\n",
      " 3   ML      958 non-null    object\n",
      " 4   MM      958 non-null    object\n",
      " 5   MR      958 non-null    object\n",
      " 6   BL      958 non-null    object\n",
      " 7   BM      958 non-null    object\n",
      " 8   BR      958 non-null    object\n",
      " 9   class   958 non-null    bool  \n",
      "dtypes: bool(1), object(9)\n",
      "memory usage: 68.4+ KB\n"
     ]
    }
   ],
   "source": [
    "df.info()"
   ]
  },
  {
   "cell_type": "markdown",
   "id": "0c1df431",
   "metadata": {
    "papermill": {
     "duration": 0.0163,
     "end_time": "2022-01-22T22:17:36.885674",
     "exception": false,
     "start_time": "2022-01-22T22:17:36.869374",
     "status": "completed"
    },
    "tags": []
   },
   "source": [
    "Comprobamos los valores nulos, en este caso no tenemos ninguno, perfecto."
   ]
  },
  {
   "cell_type": "code",
   "execution_count": 6,
   "id": "6fa91293",
   "metadata": {
    "execution": {
     "iopub.execute_input": "2022-01-22T22:17:36.921880Z",
     "iopub.status.busy": "2022-01-22T22:17:36.921219Z",
     "iopub.status.idle": "2022-01-22T22:17:36.928504Z",
     "shell.execute_reply": "2022-01-22T22:17:36.929036Z",
     "shell.execute_reply.started": "2022-01-22T21:30:22.726769Z"
    },
    "papermill": {
     "duration": 0.027169,
     "end_time": "2022-01-22T22:17:36.929245",
     "exception": false,
     "start_time": "2022-01-22T22:17:36.902076",
     "status": "completed"
    },
    "tags": []
   },
   "outputs": [
    {
     "data": {
      "text/plain": [
       "TL       0\n",
       "TM       0\n",
       "TR       0\n",
       "ML       0\n",
       "MM       0\n",
       "MR       0\n",
       "BL       0\n",
       "BM       0\n",
       "BR       0\n",
       "class    0\n",
       "dtype: int64"
      ]
     },
     "execution_count": 6,
     "metadata": {},
     "output_type": "execute_result"
    }
   ],
   "source": [
    "df.isnull().sum()"
   ]
  },
  {
   "cell_type": "code",
   "execution_count": 7,
   "id": "f9d6c493",
   "metadata": {
    "execution": {
     "iopub.execute_input": "2022-01-22T22:17:36.967132Z",
     "iopub.status.busy": "2022-01-22T22:17:36.966461Z",
     "iopub.status.idle": "2022-01-22T22:17:36.971264Z",
     "shell.execute_reply": "2022-01-22T22:17:36.971796Z",
     "shell.execute_reply.started": "2022-01-22T21:44:19.518721Z"
    },
    "papermill": {
     "duration": 0.025583,
     "end_time": "2022-01-22T22:17:36.972018",
     "exception": false,
     "start_time": "2022-01-22T22:17:36.946435",
     "status": "completed"
    },
    "tags": []
   },
   "outputs": [
    {
     "data": {
      "text/plain": [
       "(958,)"
      ]
     },
     "execution_count": 7,
     "metadata": {},
     "output_type": "execute_result"
    }
   ],
   "source": [
    "y.shape"
   ]
  },
  {
   "cell_type": "code",
   "execution_count": 8,
   "id": "fad322ef",
   "metadata": {
    "execution": {
     "iopub.execute_input": "2022-01-22T22:17:37.010819Z",
     "iopub.status.busy": "2022-01-22T22:17:37.010003Z",
     "iopub.status.idle": "2022-01-22T22:17:37.012611Z",
     "shell.execute_reply": "2022-01-22T22:17:37.013095Z",
     "shell.execute_reply.started": "2022-01-22T21:46:56.179320Z"
    },
    "papermill": {
     "duration": 0.024614,
     "end_time": "2022-01-22T22:17:37.013282",
     "exception": false,
     "start_time": "2022-01-22T22:17:36.988668",
     "status": "completed"
    },
    "tags": []
   },
   "outputs": [
    {
     "data": {
      "text/plain": [
       "(958, 9)"
      ]
     },
     "execution_count": 8,
     "metadata": {},
     "output_type": "execute_result"
    }
   ],
   "source": [
    "x.shape"
   ]
  },
  {
   "cell_type": "markdown",
   "id": "e186e027",
   "metadata": {
    "papermill": {
     "duration": 0.016969,
     "end_time": "2022-01-22T22:17:37.047548",
     "exception": false,
     "start_time": "2022-01-22T22:17:37.030579",
     "status": "completed"
    },
    "tags": []
   },
   "source": [
    "# Preprocesamiento de datos"
   ]
  },
  {
   "cell_type": "markdown",
   "id": "155061c5",
   "metadata": {
    "papermill": {
     "duration": 0.017153,
     "end_time": "2022-01-22T22:17:37.081931",
     "exception": false,
     "start_time": "2022-01-22T22:17:37.064778",
     "status": "completed"
    },
    "tags": []
   },
   "source": [
    "## Paso 1. Transformar las variables categoricas a númericas"
   ]
  },
  {
   "cell_type": "code",
   "execution_count": 9,
   "id": "634f4d04",
   "metadata": {
    "execution": {
     "iopub.execute_input": "2022-01-22T22:17:37.118982Z",
     "iopub.status.busy": "2022-01-22T22:17:37.118324Z",
     "iopub.status.idle": "2022-01-22T22:17:37.127020Z",
     "shell.execute_reply": "2022-01-22T22:17:37.127534Z",
     "shell.execute_reply.started": "2022-01-22T21:49:27.924021Z"
    },
    "papermill": {
     "duration": 0.028779,
     "end_time": "2022-01-22T22:17:37.127730",
     "exception": false,
     "start_time": "2022-01-22T22:17:37.098951",
     "status": "completed"
    },
    "tags": []
   },
   "outputs": [],
   "source": [
    "LE = LabelEncoder()\n",
    "\n",
    "y = LE.fit_transform(y)\n",
    "for column in x:\n",
    "    x[column] = LE.fit_transform(x[column])"
   ]
  },
  {
   "cell_type": "markdown",
   "id": "5b43dd36",
   "metadata": {
    "papermill": {
     "duration": 0.016544,
     "end_time": "2022-01-22T22:17:37.161375",
     "exception": false,
     "start_time": "2022-01-22T22:17:37.144831",
     "status": "completed"
    },
    "tags": []
   },
   "source": [
    "## Paso 2. Reequilibrio de la variable de salida"
   ]
  },
  {
   "cell_type": "code",
   "execution_count": 10,
   "id": "070fd4e3",
   "metadata": {
    "execution": {
     "iopub.execute_input": "2022-01-22T22:17:37.201201Z",
     "iopub.status.busy": "2022-01-22T22:17:37.200522Z",
     "iopub.status.idle": "2022-01-22T22:17:37.202066Z",
     "shell.execute_reply": "2022-01-22T22:17:37.202531Z",
     "shell.execute_reply.started": "2022-01-22T21:56:14.829403Z"
    },
    "papermill": {
     "duration": 0.024385,
     "end_time": "2022-01-22T22:17:37.202713",
     "exception": false,
     "start_time": "2022-01-22T22:17:37.178328",
     "status": "completed"
    },
    "tags": []
   },
   "outputs": [],
   "source": [
    "def MostrarVariableDeSalida(dataset):\n",
    "  fig = plt.figure(figsize = (8,5))\n",
    "  dataset['class'].value_counts(normalize = True).plot(kind='bar', color= ['skyblue','navy'], alpha = 0.9, rot=0)\n",
    "  plt.title('RainTomorrow Indicator No(0) and Yes(1) after Oversampling (Balanced Dataset)')\n",
    "  plt.show()"
   ]
  },
  {
   "cell_type": "code",
   "execution_count": 11,
   "id": "8d12c7f6",
   "metadata": {
    "execution": {
     "iopub.execute_input": "2022-01-22T22:17:37.241515Z",
     "iopub.status.busy": "2022-01-22T22:17:37.240809Z",
     "iopub.status.idle": "2022-01-22T22:17:37.466973Z",
     "shell.execute_reply": "2022-01-22T22:17:37.467462Z",
     "shell.execute_reply.started": "2022-01-22T21:56:16.691151Z"
    },
    "papermill": {
     "duration": 0.247573,
     "end_time": "2022-01-22T22:17:37.467701",
     "exception": false,
     "start_time": "2022-01-22T22:17:37.220128",
     "status": "completed"
    },
    "tags": []
   },
   "outputs": [
    {
     "data": {
      "image/png": "[encoded data removed]",
      "text/plain": [
       "<Figure size 576x360 with 1 Axes>"
      ]
     },
     "metadata": {
      "needs_background": "light"
     },
     "output_type": "display_data"
    }
   ],
   "source": [
    "MostrarVariableDeSalida(df)"
   ]
  },
  {
   "cell_type": "markdown",
   "id": "b9c2bfd0",
   "metadata": {
    "papermill": {
     "duration": 0.017522,
     "end_time": "2022-01-22T22:17:37.504771",
     "exception": false,
     "start_time": "2022-01-22T22:17:37.487249",
     "status": "completed"
    },
    "tags": []
   },
   "source": [
    "## Paso 3. Estandarización de los datos"
   ]
  },
  {
   "cell_type": "markdown",
   "id": "e8d00c92",
   "metadata": {
    "papermill": {
     "duration": 0.0177,
     "end_time": "2022-01-22T22:17:37.541293",
     "exception": false,
     "start_time": "2022-01-22T22:17:37.523593",
     "status": "completed"
    },
    "tags": []
   },
   "source": [
    "Dividimos el dataset para entrenamiento y test"
   ]
  },
  {
   "cell_type": "code",
   "execution_count": 12,
   "id": "1c0c7de1",
   "metadata": {
    "execution": {
     "iopub.execute_input": "2022-01-22T22:17:37.581531Z",
     "iopub.status.busy": "2022-01-22T22:17:37.580883Z",
     "iopub.status.idle": "2022-01-22T22:17:37.587627Z",
     "shell.execute_reply": "2022-01-22T22:17:37.588142Z",
     "shell.execute_reply.started": "2022-01-22T21:49:34.223883Z"
    },
    "papermill": {
     "duration": 0.028858,
     "end_time": "2022-01-22T22:17:37.588337",
     "exception": false,
     "start_time": "2022-01-22T22:17:37.559479",
     "status": "completed"
    },
    "tags": []
   },
   "outputs": [],
   "source": [
    "x_train, x_test, y_train, y_test = train_test_split(x, y,test_size=0.3, train_size=0.7)"
   ]
  },
  {
   "cell_type": "markdown",
   "id": "aa38d24a",
   "metadata": {
    "papermill": {
     "duration": 0.017336,
     "end_time": "2022-01-22T22:17:37.623385",
     "exception": false,
     "start_time": "2022-01-22T22:17:37.606049",
     "status": "completed"
    },
    "tags": []
   },
   "source": [
    "# Entrenamiento ML"
   ]
  },
  {
   "cell_type": "markdown",
   "id": "55147d8f",
   "metadata": {
    "papermill": {
     "duration": 0.017283,
     "end_time": "2022-01-22T22:17:37.658090",
     "exception": false,
     "start_time": "2022-01-22T22:17:37.640807",
     "status": "completed"
    },
    "tags": []
   },
   "source": [
    "## Random Forest Classifier"
   ]
  },
  {
   "cell_type": "code",
   "execution_count": 13,
   "id": "548921df",
   "metadata": {
    "execution": {
     "iopub.execute_input": "2022-01-22T22:17:37.700187Z",
     "iopub.status.busy": "2022-01-22T22:17:37.699520Z",
     "iopub.status.idle": "2022-01-22T22:18:15.602300Z",
     "shell.execute_reply": "2022-01-22T22:18:15.601732Z",
     "shell.execute_reply.started": "2022-01-22T22:11:50.094051Z"
    },
    "papermill": {
     "duration": 37.926859,
     "end_time": "2022-01-22T22:18:15.602463",
     "exception": false,
     "start_time": "2022-01-22T22:17:37.675604",
     "status": "completed"
    },
    "tags": []
   },
   "outputs": [
    {
     "name": "stdout",
     "output_type": "stream",
     "text": [
      "Fitting 2 folds for each of 150 candidates, totalling 300 fits\n"
     ]
    },
    {
     "name": "stderr",
     "output_type": "stream",
     "text": [
      "[Parallel(n_jobs=-1)]: Using backend LokyBackend with 4 concurrent workers.\n",
      "[Parallel(n_jobs=-1)]: Done  42 tasks      | elapsed:    6.5s\n",
      "[Parallel(n_jobs=-1)]: Done 192 tasks      | elapsed:   24.4s\n"
     ]
    },
    {
     "name": "stdout",
     "output_type": "stream",
     "text": [
      "{'criterion': 'gini', 'max_depth': 8, 'max_features': 'log2', 'n_estimators': 25}\n"
     ]
    },
    {
     "name": "stderr",
     "output_type": "stream",
     "text": [
      "[Parallel(n_jobs=-1)]: Done 300 out of 300 | elapsed:   37.8s finished\n"
     ]
    }
   ],
   "source": [
    "param_grid = { \n",
    "    'n_estimators': [25, 50, 100,200, 500],\n",
    "    'max_features': ['auto', 'sqrt', 'log2'],\n",
    "    'max_depth' : [4,5,6,7,8],\n",
    "    'criterion' :['gini', 'entropy']\n",
    "}\n",
    "clf = GridSearchCV(RandomForestClassifier(), param_grid, cv=2, n_jobs=-1, verbose=1)\n",
    "\n",
    "clf.fit(x_train, y_train)\n",
    "print(clf.best_params_)\n",
    "model = clf.best_estimator_\n",
    "# Predecir en test\n",
    "y_pred = model.predict(x_test)"
   ]
  },
  {
   "cell_type": "markdown",
   "id": "46edb0fc",
   "metadata": {
    "papermill": {
     "duration": 0.01965,
     "end_time": "2022-01-22T22:18:15.641104",
     "exception": false,
     "start_time": "2022-01-22T22:18:15.621454",
     "status": "completed"
    },
    "tags": []
   },
   "source": [
    "{'criterion': 'gini', 'max_depth': 8, 'max_features': 'auto', 'n_estimators': 200}"
   ]
  },
  {
   "cell_type": "code",
   "execution_count": 14,
   "id": "8c0b3f38",
   "metadata": {
    "execution": {
     "iopub.execute_input": "2022-01-22T22:18:15.684714Z",
     "iopub.status.busy": "2022-01-22T22:18:15.684129Z",
     "iopub.status.idle": "2022-01-22T22:18:15.687393Z",
     "shell.execute_reply": "2022-01-22T22:18:15.686763Z",
     "shell.execute_reply.started": "2022-01-22T22:14:55.079011Z"
    },
    "papermill": {
     "duration": 0.027517,
     "end_time": "2022-01-22T22:18:15.687539",
     "exception": false,
     "start_time": "2022-01-22T22:18:15.660022",
     "status": "completed"
    },
    "tags": []
   },
   "outputs": [
    {
     "name": "stdout",
     "output_type": "stream",
     "text": [
      "89.23611111111111\n"
     ]
    }
   ],
   "source": [
    "print(accuracy_score(y_test, y_pred)*100)"
   ]
  }
 ],
 "metadata": {
  "kernelspec": {
   "display_name": "Python 3",
   "language": "python",
   "name": "python3"
  },
  "language_info": {
   "codemirror_mode": {
    "name": "ipython",
    "version": 3
   },
   "file_extension": ".py",
   "mimetype": "text/x-python",
   "name": "python",
   "nbconvert_exporter": "python",
   "pygments_lexer": "ipython3",
   "version": "3.7.12"
  },
  "papermill": {
   "default_parameters": {},
   "duration": 50.763148,
   "end_time": "2022-01-22T22:18:16.520113",
   "environment_variables": {},
   "exception": null,
   "input_path": "__notebook__.ipynb",
   "output_path": "__notebook__.ipynb",
   "parameters": {},
   "start_time": "2022-01-22T22:17:25.756965",
   "version": "2.3.3"
  }
 },
 "nbformat": 4,
 "nbformat_minor": 5
}
